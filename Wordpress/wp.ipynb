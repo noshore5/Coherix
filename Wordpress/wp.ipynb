{
 "cells": [
  {
   "cell_type": "code",
   "execution_count": 2,
   "id": "0cb3b7ec",
   "metadata": {},
   "outputs": [
    {
     "name": "stdout",
     "output_type": "stream",
     "text": [
      "{'id': 31, 'date': '2025-07-18T12:41:40', 'date_gmt': '2025-07-18T12:41:40', 'guid': {'rendered': 'https://shoreanalytics.tech/hello-from-python/', 'raw': 'https://shoreanalytics.tech/hello-from-python/'}, 'modified': '2025-07-18T12:41:40', 'modified_gmt': '2025-07-18T12:41:40', 'password': '', 'slug': 'hello-from-python', 'status': 'publish', 'type': 'post', 'link': 'https://shoreanalytics.tech/hello-from-python/', 'title': {'raw': 'Hello from Python', 'rendered': 'Hello from Python'}, 'content': {'raw': 'Created with REST API', 'rendered': '<p>Created with REST API</p>\\n', 'protected': False, 'block_version': 0}, 'excerpt': {'raw': '', 'rendered': '<p>Created with REST API</p>\\n', 'protected': False}, 'author': 1, 'featured_media': 0, 'comment_status': 'open', 'ping_status': 'open', 'sticky': False, 'template': '', 'format': 'standard', 'meta': {'footnotes': ''}, 'categories': [1], 'tags': [], 'permalink_template': 'https://shoreanalytics.tech/%postname%/', 'generated_slug': 'hello-from-python', 'class_list': ['post-31', 'post', 'type-post', 'status-publish', 'format-standard', 'hentry', 'category-uncategorized'], '_links': {'self': [{'href': 'https://shoreanalytics.tech/wp-json/wp/v2/posts/31', 'targetHints': {'allow': ['GET', 'POST', 'PUT', 'PATCH', 'DELETE']}}], 'collection': [{'href': 'https://shoreanalytics.tech/wp-json/wp/v2/posts'}], 'about': [{'href': 'https://shoreanalytics.tech/wp-json/wp/v2/types/post'}], 'author': [{'embeddable': True, 'href': 'https://shoreanalytics.tech/wp-json/wp/v2/users/1'}], 'replies': [{'embeddable': True, 'href': 'https://shoreanalytics.tech/wp-json/wp/v2/comments?post=31'}], 'version-history': [{'count': 0, 'href': 'https://shoreanalytics.tech/wp-json/wp/v2/posts/31/revisions'}], 'wp:attachment': [{'href': 'https://shoreanalytics.tech/wp-json/wp/v2/media?parent=31'}], 'wp:term': [{'taxonomy': 'category', 'embeddable': True, 'href': 'https://shoreanalytics.tech/wp-json/wp/v2/categories?post=31'}, {'taxonomy': 'post_tag', 'embeddable': True, 'href': 'https://shoreanalytics.tech/wp-json/wp/v2/tags?post=31'}], 'wp:action-publish': [{'href': 'https://shoreanalytics.tech/wp-json/wp/v2/posts/31'}], 'wp:action-unfiltered-html': [{'href': 'https://shoreanalytics.tech/wp-json/wp/v2/posts/31'}], 'wp:action-sticky': [{'href': 'https://shoreanalytics.tech/wp-json/wp/v2/posts/31'}], 'wp:action-assign-author': [{'href': 'https://shoreanalytics.tech/wp-json/wp/v2/posts/31'}], 'wp:action-create-categories': [{'href': 'https://shoreanalytics.tech/wp-json/wp/v2/posts/31'}], 'wp:action-assign-categories': [{'href': 'https://shoreanalytics.tech/wp-json/wp/v2/posts/31'}], 'wp:action-create-tags': [{'href': 'https://shoreanalytics.tech/wp-json/wp/v2/posts/31'}], 'wp:action-assign-tags': [{'href': 'https://shoreanalytics.tech/wp-json/wp/v2/posts/31'}], 'curies': [{'name': 'wp', 'href': 'https://api.w.org/{rel}', 'templated': True}]}}\n"
     ]
    }
   ],
   "source": [
    "import requests\n",
    "from requests.auth import HTTPBasicAuth\n",
    "\n",
    "url = \"https://shoreanalytics.tech/wp-json/wp/v2/posts\"\n",
    "username = \"noah@shoreanalytics.tech\"\n",
    "app_password = \"eg65 E7cR J4C1 Ub9r SpYB kz8W\"\n",
    "\n",
    "post = {\n",
    "    \"title\": \"Hello from Python\",\n",
    "    \"content\": \"Created with REST API\",\n",
    "    \"status\": \"publish\"\n",
    "}\n",
    "\n",
    "response = requests.post(url, json=post, auth=HTTPBasicAuth(username, app_password))\n",
    "print(response.json())\n"
   ]
  },
  {
   "cell_type": "code",
   "execution_count": 8,
   "id": "6c37362b",
   "metadata": {},
   "outputs": [
    {
     "name": "stdout",
     "output_type": "stream",
     "text": [
      "2 Sample Page\n"
     ]
    }
   ],
   "source": [
    "# Get all pages\n",
    "r = requests.get(f\"https://shoreanalytics.tech/wp-json/wp/v2/pages\", auth=HTTPBasicAuth(username, app_password))\n",
    "for page in r.json():\n",
    "    print(page['id'], page['title']['rendered'])"
   ]
  },
  {
   "cell_type": "code",
   "execution_count": 16,
   "id": "1f583bf4",
   "metadata": {},
   "outputs": [
    {
     "name": "stdout",
     "output_type": "stream",
     "text": [
      "Found 'Coherix' page with ID: 2\n",
      "✅ Page updated successfully!\n"
     ]
    }
   ],
   "source": [
    "import requests\n",
    "from requests.auth import HTTPBasicAuth\n",
    "\n",
    "site = 'https://shoreanalytics.tech'\n",
    "\n",
    "\n",
    "# 1. Get all pages to find the ID of \"Coherix\"\n",
    "response = requests.get(f'{site}/wp-json/wp/v2/pages', auth=HTTPBasicAuth(username, app_password))\n",
    "\n",
    "pages = response.json()\n",
    "coherix_id = None\n",
    "for page in pages:\n",
    "    if page['title']['rendered'].lower() == 'coherix':\n",
    "        coherix_id = page['id']\n",
    "        break\n",
    "\n",
    "if not coherix_id:\n",
    "    print(\"Couldn't find a page titled 'Coherix'\")\n",
    "else:\n",
    "    print(f\"Found 'Coherix' page with ID: {coherix_id}\")\n",
    "\n",
    "    # 2. Define the iframe HTML\n",
    "    new_content = \"\"\"\n",
    "    <h1>Subtitle</h1>\n",
    "    <iframe src=\"https://coherix-choice.onrender.com/\" width=\"100%\" height=\"600\" frameborder=\"0\" allowfullscreen></iframe>\n",
    "    <footer>Powered by Coherix</footer>\n",
    "    \"\"\"\n",
    "\n",
    "    # 3. Update the page content\n",
    "    update_response = requests.post(\n",
    "        f'{site}/wp-json/wp/v2/pages/{coherix_id}',\n",
    "        auth=HTTPBasicAuth(username, app_password),\n",
    "        headers={'Content-Type': 'application/json'},\n",
    "        json={'content': new_content}\n",
    "    )\n",
    "\n",
    "    if update_response.status_code == 200:\n",
    "        print(\"✅ Page updated successfully!\")\n",
    "    else:\n",
    "        print(f\"❌ Error updating page: {update_response.status_code}\")\n",
    "        print(update_response.json())\n"
   ]
  },
  {
   "cell_type": "code",
   "execution_count": 21,
   "id": "d8bed583",
   "metadata": {},
   "outputs": [
    {
     "name": "stdout",
     "output_type": "stream",
     "text": [
      "✅ Navigation menu created or updated!\n",
      "{'success': True, 'menu_id': 4}\n"
     ]
    }
   ],
   "source": [
    "import requests\n",
    "from requests.auth import HTTPBasicAuth\n",
    "\n",
    "\n",
    "res = requests.post(\n",
    "    f'{site}/wp-json/custom/v1/create-menu',\n",
    "    auth=HTTPBasicAuth(username, app_password)\n",
    ")\n",
    "\n",
    "if res.status_code == 200:\n",
    "    print(\"✅ Navigation menu created or updated!\")\n",
    "    print(res.json())\n",
    "else:\n",
    "    print(f\"❌ Failed: {res.status_code}\")\n",
    "    print(res.text)\n"
   ]
  },
  {
   "cell_type": "code",
   "execution_count": 5,
   "id": "8bd32b82",
   "metadata": {},
   "outputs": [
    {
     "name": "stdout",
     "output_type": "stream",
     "text": [
      "❌ Failed: 404 {\"code\":\"rest_global_styles_not_found\",\"message\":\"No global styles config exist with that id.\",\"data\":{\"status\":404}}\n"
     ]
    }
   ],
   "source": [
    "import requests\n",
    "from requests.auth import HTTPBasicAuth\n",
    "\n",
    "site = 'https://shoreanalytics.tech'\n",
    "\n",
    "# Custom global style payload for dark background\n",
    "dark_style = {\n",
    "    \"settings\": {\n",
    "        \"color\": {\n",
    "            \"palette\": [\n",
    "                { \"slug\": \"background\", \"color\": \"#000000\", \"name\": \"Background\" },\n",
    "                { \"slug\": \"text\", \"color\": \"#ffffff\", \"name\": \"Text\" }\n",
    "            ],\n",
    "            \"background\": \"#000000\",\n",
    "            \"text\": \"#ffffff\"\n",
    "        }\n",
    "    }\n",
    "}\n",
    "\n",
    "res = requests.post(\n",
    "    f'{site}/wp-json/wp/v2/global-styles/active',\n",
    "    auth=HTTPBasicAuth(username, app_password),\n",
    "    headers={'Content-Type': 'application/json'},\n",
    "    json={\"settings\": dark_style[\"settings\"]}\n",
    ")\n",
    "\n",
    "if res.status_code == 200:\n",
    "    print(\"✅ Site style updated to dark mode.\")\n",
    "else:\n",
    "    print(\"❌ Failed:\", res.status_code, res.text)\n"
   ]
  },
  {
   "cell_type": "code",
   "execution_count": 6,
   "id": "dd56a72c",
   "metadata": {},
   "outputs": [
    {
     "name": "stdout",
     "output_type": "stream",
     "text": [
      "404 {\"code\":\"rest_no_route\",\"message\":\"No route was found matching the URL and request method.\",\"data\":{\"status\":404}}\n"
     ]
    }
   ],
   "source": [
    "import requests\n",
    "from requests.auth import HTTPBasicAuth\n",
    "\n",
    "# This CSS makes your site background dark\n",
    "dark_css = \"\"\"\n",
    "body {\n",
    "    background-color: #111 !important;\n",
    "    color: #eee !important;\n",
    "}\n",
    "a, p, h1, h2, h3, h4, h5, h6 {\n",
    "    color: #eee !important;\n",
    "}\n",
    "\"\"\"\n",
    "\n",
    "# This assumes a plugin or custom endpoint supports /custom-css\n",
    "response = requests.post(\n",
    "    f'{site}/wp-json/wp/v2/custom-css',  # Not native — plugin must provide this\n",
    "    auth=HTTPBasicAuth(username, app_password),\n",
    "    headers={'Content-Type': 'application/json'},\n",
    "    json={'css': dark_css}\n",
    ")\n",
    "\n",
    "print(response.status_code, response.text)\n"
   ]
  }
 ],
 "metadata": {
  "kernelspec": {
   "display_name": "Python 3",
   "language": "python",
   "name": "python3"
  },
  "language_info": {
   "codemirror_mode": {
    "name": "ipython",
    "version": 3
   },
   "file_extension": ".py",
   "mimetype": "text/x-python",
   "name": "python",
   "nbconvert_exporter": "python",
   "pygments_lexer": "ipython3",
   "version": "3.13.5"
  }
 },
 "nbformat": 4,
 "nbformat_minor": 5
}
