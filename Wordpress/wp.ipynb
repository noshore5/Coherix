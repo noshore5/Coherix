{
 "cells": [
  {
   "cell_type": "code",
   "execution_count": 11,
   "id": "0cb3b7ec",
   "metadata": {},
   "outputs": [
    {
     "name": "stdout",
     "output_type": "stream",
     "text": [
      "{'id': 14, 'date': '2025-07-17T15:33:52', 'date_gmt': '2025-07-17T15:33:52', 'guid': {'rendered': 'https://shoreanalytics.tech/hello-from-python-2/', 'raw': 'https://shoreanalytics.tech/hello-from-python-2/'}, 'modified': '2025-07-17T15:33:52', 'modified_gmt': '2025-07-17T15:33:52', 'password': '', 'slug': 'hello-from-python-2', 'status': 'publish', 'type': 'post', 'link': 'https://shoreanalytics.tech/hello-from-python-2/', 'title': {'raw': 'Hello from Python', 'rendered': 'Hello from Python'}, 'content': {'raw': 'Created with REST API', 'rendered': '<p>Created with REST API</p>\\n', 'protected': False, 'block_version': 0}, 'excerpt': {'raw': '', 'rendered': '<p>Created with REST API</p>\\n', 'protected': False}, 'author': 1, 'featured_media': 0, 'comment_status': 'open', 'ping_status': 'open', 'sticky': False, 'template': '', 'format': 'standard', 'meta': {'footnotes': ''}, 'categories': [1], 'tags': [], 'permalink_template': 'https://shoreanalytics.tech/%postname%/', 'generated_slug': 'hello-from-python-2', 'class_list': ['post-14', 'post', 'type-post', 'status-publish', 'format-standard', 'hentry', 'category-uncategorized'], '_links': {'self': [{'href': 'https://shoreanalytics.tech/wp-json/wp/v2/posts/14', 'targetHints': {'allow': ['GET', 'POST', 'PUT', 'PATCH', 'DELETE']}}], 'collection': [{'href': 'https://shoreanalytics.tech/wp-json/wp/v2/posts'}], 'about': [{'href': 'https://shoreanalytics.tech/wp-json/wp/v2/types/post'}], 'author': [{'embeddable': True, 'href': 'https://shoreanalytics.tech/wp-json/wp/v2/users/1'}], 'replies': [{'embeddable': True, 'href': 'https://shoreanalytics.tech/wp-json/wp/v2/comments?post=14'}], 'version-history': [{'count': 0, 'href': 'https://shoreanalytics.tech/wp-json/wp/v2/posts/14/revisions'}], 'wp:attachment': [{'href': 'https://shoreanalytics.tech/wp-json/wp/v2/media?parent=14'}], 'wp:term': [{'taxonomy': 'category', 'embeddable': True, 'href': 'https://shoreanalytics.tech/wp-json/wp/v2/categories?post=14'}, {'taxonomy': 'post_tag', 'embeddable': True, 'href': 'https://shoreanalytics.tech/wp-json/wp/v2/tags?post=14'}], 'wp:action-publish': [{'href': 'https://shoreanalytics.tech/wp-json/wp/v2/posts/14'}], 'wp:action-unfiltered-html': [{'href': 'https://shoreanalytics.tech/wp-json/wp/v2/posts/14'}], 'wp:action-sticky': [{'href': 'https://shoreanalytics.tech/wp-json/wp/v2/posts/14'}], 'wp:action-assign-author': [{'href': 'https://shoreanalytics.tech/wp-json/wp/v2/posts/14'}], 'wp:action-create-categories': [{'href': 'https://shoreanalytics.tech/wp-json/wp/v2/posts/14'}], 'wp:action-assign-categories': [{'href': 'https://shoreanalytics.tech/wp-json/wp/v2/posts/14'}], 'wp:action-create-tags': [{'href': 'https://shoreanalytics.tech/wp-json/wp/v2/posts/14'}], 'wp:action-assign-tags': [{'href': 'https://shoreanalytics.tech/wp-json/wp/v2/posts/14'}], 'curies': [{'name': 'wp', 'href': 'https://api.w.org/{rel}', 'templated': True}]}}\n"
     ]
    }
   ],
   "source": [
    "import requests\n",
    "from requests.auth import HTTPBasicAuth\n",
    "\n",
    "url = \"https://shoreanalytics.tech/wp-json/wp/v2/posts\"\n",
    "username = \"noah@shoreanalytics.tech\"\n",
    "app_password = \"eg65 E7cR J4C1 Ub9r SpYB kz8W\"\n",
    "\n",
    "post = {\n",
    "    \"title\": \"Hello from Python\",\n",
    "    \"content\": \"Created with REST API\",\n",
    "    \"status\": \"publish\"\n",
    "}\n",
    "\n",
    "response = requests.post(url, json=post, auth=HTTPBasicAuth(username, app_password))\n",
    "print(response.json())\n"
   ]
  },
  {
   "cell_type": "code",
   "execution_count": 8,
   "id": "6c37362b",
   "metadata": {},
   "outputs": [
    {
     "name": "stdout",
     "output_type": "stream",
     "text": [
      "2 Sample Page\n"
     ]
    }
   ],
   "source": [
    "# Get all pages\n",
    "r = requests.get(f\"https://shoreanalytics.tech/wp-json/wp/v2/pages\", auth=HTTPBasicAuth(username, app_password))\n",
    "for page in r.json():\n",
    "    print(page['id'], page['title']['rendered'])"
   ]
  },
  {
   "cell_type": "code",
   "execution_count": 16,
   "id": "1f583bf4",
   "metadata": {},
   "outputs": [
    {
     "name": "stdout",
     "output_type": "stream",
     "text": [
      "Found 'Coherix' page with ID: 2\n",
      "✅ Page updated successfully!\n"
     ]
    }
   ],
   "source": [
    "import requests\n",
    "from requests.auth import HTTPBasicAuth\n",
    "\n",
    "site = 'https://shoreanalytics.tech'\n",
    "\n",
    "\n",
    "# 1. Get all pages to find the ID of \"Coherix\"\n",
    "response = requests.get(f'{site}/wp-json/wp/v2/pages', auth=HTTPBasicAuth(username, app_password))\n",
    "\n",
    "pages = response.json()\n",
    "coherix_id = None\n",
    "for page in pages:\n",
    "    if page['title']['rendered'].lower() == 'coherix':\n",
    "        coherix_id = page['id']\n",
    "        break\n",
    "\n",
    "if not coherix_id:\n",
    "    print(\"Couldn't find a page titled 'Coherix'\")\n",
    "else:\n",
    "    print(f\"Found 'Coherix' page with ID: {coherix_id}\")\n",
    "\n",
    "    # 2. Define the iframe HTML\n",
    "    new_content = \"\"\"\n",
    "    <h1>Subtitle</h1>\n",
    "    <iframe src=\"https://coherix-choice.onrender.com/\" width=\"100%\" height=\"600\" frameborder=\"0\" allowfullscreen></iframe>\n",
    "    <footer>Powered by Coherix</footer>\n",
    "    \"\"\"\n",
    "\n",
    "    # 3. Update the page content\n",
    "    update_response = requests.post(\n",
    "        f'{site}/wp-json/wp/v2/pages/{coherix_id}',\n",
    "        auth=HTTPBasicAuth(username, app_password),\n",
    "        headers={'Content-Type': 'application/json'},\n",
    "        json={'content': new_content}\n",
    "    )\n",
    "\n",
    "    if update_response.status_code == 200:\n",
    "        print(\"✅ Page updated successfully!\")\n",
    "    else:\n",
    "        print(f\"❌ Error updating page: {update_response.status_code}\")\n",
    "        print(update_response.json())\n"
   ]
  },
  {
   "cell_type": "code",
   "execution_count": 21,
   "id": "d8bed583",
   "metadata": {},
   "outputs": [
    {
     "name": "stdout",
     "output_type": "stream",
     "text": [
      "✅ Navigation menu created or updated!\n",
      "{'success': True, 'menu_id': 4}\n"
     ]
    }
   ],
   "source": [
    "import requests\n",
    "from requests.auth import HTTPBasicAuth\n",
    "\n",
    "\n",
    "res = requests.post(\n",
    "    f'{site}/wp-json/custom/v1/create-menu',\n",
    "    auth=HTTPBasicAuth(username, app_password)\n",
    ")\n",
    "\n",
    "if res.status_code == 200:\n",
    "    print(\"✅ Navigation menu created or updated!\")\n",
    "    print(res.json())\n",
    "else:\n",
    "    print(f\"❌ Failed: {res.status_code}\")\n",
    "    print(res.text)\n"
   ]
  },
  {
   "cell_type": "code",
   "execution_count": null,
   "id": "8bd32b82",
   "metadata": {},
   "outputs": [],
   "source": []
  }
 ],
 "metadata": {
  "kernelspec": {
   "display_name": "Python 3",
   "language": "python",
   "name": "python3"
  },
  "language_info": {
   "codemirror_mode": {
    "name": "ipython",
    "version": 3
   },
   "file_extension": ".py",
   "mimetype": "text/x-python",
   "name": "python",
   "nbconvert_exporter": "python",
   "pygments_lexer": "ipython3",
   "version": "3.13.5"
  }
 },
 "nbformat": 4,
 "nbformat_minor": 5
}
